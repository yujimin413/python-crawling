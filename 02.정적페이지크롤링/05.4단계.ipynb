{
 "cells": [
  {
   "cell_type": "code",
   "execution_count": null,
   "metadata": {},
   "outputs": [],
   "source": [
    "pip install pandas"
   ]
  },
  {
   "cell_type": "code",
   "execution_count": null,
   "metadata": {},
   "outputs": [],
   "source": [
    "pip install openpyxl"
   ]
  },
  {
   "cell_type": "code",
   "execution_count": null,
   "metadata": {},
   "outputs": [],
   "source": [
    "data = [\n",
    "    ['카테고리1', '상품명1', '링크1', '가격1'],\n",
    "    ['카테고리2', '상품명2', '링크2', '가격2'],\n",
    "    ['카테고리10', '상품명10', '링크10', '가격10']\n",
    "]"
   ]
  },
  {
   "cell_type": "code",
   "execution_count": 5,
   "metadata": {},
   "outputs": [
    {
     "name": "stdout",
     "output_type": "stream",
     "text": [
      "노트북 에이서 스위프트 GO 16 OLED, 스틸 그레이, 코어i7, 512GB, 16GB, WIN11 Home, SFG16-71-77FT #product1_detail.html 1419000\n",
      "노트북 삼성전자 노트북 플러스2 15.6, 퓨어 화이트, NT550XDA-K24AT, 펜티엄, 256GB, 8GB, WIN11 Pro #product2_detail.html 549000\n",
      "노트북 레노버 아이디어패드 슬림 1 15AMN7 15.6, 256GB, Free DOS, 82VG002EKR, 라이젠3, Cloud Grey (82VG), 8GB #product3_detail.html 529000\n",
      "노트북 레노버 V15 G4 AMN 15.6, Arctic Grey, 라이젠3, 256GB, 8GB, WIN11 Home, 82YU0009KR #product4_detail.html 624000\n",
      "노트북 LG 울트라PC 엣지 16, 차콜 그레이, 라이젠5, 256GB, 16GB, WIN11 Home, 16U70R-GA56K #product5_detail.html 1135000\n",
      "노트북 베이직스 베이직북 14 3세대, BB1422SS, 256GB, White, WIN11 Pro, 셀러론, 8GB #product6_detail.html 398000\n",
      "노트북 레노버 아이디어패드 슬림 5i 14IRL 14, Cloud Grey, 코어i5, 512GB, 16GB, Free DOS, 82XD002XKR #product7_detail.html 899000\n",
      "노트북 레노버 아이디어패드 슬림 5 16IRL 16, Cloud Grey, 512GB, 16GB, Free DOS, 82XF001RKR #product8_detail.html 929000\n",
      "노트북 에이서 스위프트 GO 16 OLED, 스틸 그레이, 코어i5, 512GB, 16GB, Free DOS, SFG16-71-51BY #product9_detail.html 1008000\n",
      "노트북 삼성전자 갤럭시북 2 15.6, 500GB, 실버, NT550XED-K78AS, 코어i7, 16GB, WIN11 Home #product10_detail.html 1149000\n",
      "데스크탑 한성컴퓨터 데스크탑 화이트 TFG MX4A500 (라이젠5-5600G WIN미포함 RAM 16GB NVMe 500GB), 기본형 #product11_detail.html 499000\n",
      "데스크탑 컴집 게이밍 조립식 컴퓨터 본체 배틀그라운드 디아블로4 롤 오버워치2 전문가용 건축설계 오토캐드 조립 PC, 게임용1번 #product12_detail.html 699000\n",
      "데스크탑 HP VICTUS 게이밍 데스크탑 TG02-1000KL (i5-13400F FreeDos RAM 16GB NVMe 512GB RTX3060 Ti), 기본형 #product13_detail.html 1199000\n",
      "데스크탑 델 인스피론 3020 S 슬림 데스크탑 포그 블루 DN3020S-WH02KR (i5-13400 WIN11 Home NVMe 512GB DDR4 8GB), 기본형 #product14_detail.html 719000\n",
      "데스크탑 삼성전자 컴퓨터 i7-8700 T8A 정품 윈도우11 Pro 탑재 사무용 데스크탑 PC 본체, 기본스펙, 삼성 T8A i7-8700+8GB+500GB #product15_detail.html 416000\n",
      "데스크탑 삼성전자 사무용 게임용 리퍼 중고컴퓨터 i3 i5 i7 GTX1060 무상A/S 1년 새상품SSD, 7번) i5-7세대-미들[게임용 조립] #product16_detail.html 436000\n",
      "데스크탑 삼성전자 삼성 DM500SFZ-AD5A 최신 13세대 CPU-i5 데스크탑 슬림형 PC본체 사무용 컴퓨터 인터넷강의 재택근무 업무용, 블랙 #product17_detail.html 889000\n",
      "데스크탑 HP S01-PF3000KL-WIN11 13세대\n",
      "i5-13400_(NVMe512GB_16GB)HP컴퓨터/슬림PC/사무용PC/HH #product18_detail.html 799000\n",
      "데스크탑 삼성 컴퓨터 본체 조립PC 모니터포함 풀세트 사무용 게이밍 데스크탑 윈도우10, 본체만, 10. 라이젠5600/32G/500/4060 #product19_detail.html 1099000\n",
      "데스크탑 컴집 게이밍 조립식 컴퓨터 본체 배틀그라운드 디아블로4 롤 오버워치2 전문가용 건축설계 오토캐드 조립 PC, 게임용11번 #product20_detail.html 899000\n",
      "휴대폰 삼성전자 갤럭시 A34 자급제, 어썸 그라파이트, 128GB #product21_detail.html 408400\n",
      "휴대폰 삼성전자 갤럭시 A34 자급제, 어썸 바이올렛, 128GB #product22_detail.html 408400\n",
      "휴대폰 삼성전자 갤럭시 A34 자급제, 어썸 실버, 128GB #product23_detail.html 409510\n",
      "휴대폰 삼성전자 갤럭시 A24 자급제, 블랙, 128GB #product24_detail.html 319000\n",
      "휴대폰 삼성전자 갤럭시 S23 자급제, 라벤더, 256GB #product25_detail.html 952450\n",
      "휴대폰 삼성전자 갤럭시 S23 자급제, 크림, 256GB #product26_detail.html 1004850\n",
      "휴대폰 삼성전자 갤럭시 A23 공기계 128GB, 블루, A급 #product27_detail.html 199000\n",
      "휴대폰 삼성전자 갤럭시 Z 플립5 5G 자급제, 크림, 512GB #product28_detail.html 1216050\n",
      "휴대폰 삼성전자 갤럭시 S23 5G 256GB 제휴카드 새제품 미개봉 미개통, 그린 #product29_detail.html 147000\n",
      "휴대폰 삼성전자 갤럭시 S23 FE 자급제 SM-S711N, 크림, 256GB #product30_detail.html 719900\n",
      "모니터 주연테크 54.6cm FHD LED 모니터 100Hz, V22FX(일반) #product31_detail.html 89000\n",
      "모니터 LG전자 60.4cm FHD 모니터, 24MQ400C #product32_detail.html 145000\n",
      "모니터 KOORUI 60.45cm FHD 게이밍 모니터 리얼 165Hz 1ms MPRT+프리싱크/G-sync 지원 24E4 블랙 #product33_detail.html 85900\n",
      "모니터 LG전자 68.6cm FHD 모니터, 27MQ400C #product34_detail.html 169750\n",
      "모니터 KOORUI 60.45cm FHD Fast IPS 리얼 165Hz 1ms(gtg) 게이밍 모니터 24E3 블랙 [프리싱크/G-sync 지원] #product35_detail.html 139000\n"
     ]
    }
   ],
   "source": [
    "import requests\n",
    "from bs4 import BeautifulSoup\n",
    "import pandas as pd\n",
    "\n",
    "data = []\n",
    "for i in range(1, 5):\n",
    "    # print(f\"현재 페이지는 {i}\\n\")\n",
    "    response = requests.get(f\"https://startcoding.pythonanywhere.com/basic?page={i}\")\n",
    "    html = response.text\n",
    "    soup = BeautifulSoup(html, 'html.parser')\n",
    "    items = soup.select(\".product\") # div 태그를 10개 가져옴 (상품 총 10개)\n",
    "\n",
    "    for item in items:\n",
    "        category = item.select_one(\".product-category\").text\n",
    "        name = item.select_one(\".product-name\").text\n",
    "        link = item.select_one(\".product-name > a\").attrs['href']\n",
    "        # price = item.select_one(\".product-price\").text.strip().replace(',', '').replace('원', '')\n",
    "        price = item.select_one(\".product-price\").text.split('원')[0].replace(',','') # 4, 7번째 상품의 원가 표시를 없애기 위해 '원' 기준으로 앞쪽만(인덱스 0) 남김\n",
    "        print(category, name, link, price)\n",
    "        data.append([category, name, link, price])\n",
    "    # print('\\n')"
   ]
  },
  {
   "cell_type": "code",
   "execution_count": 6,
   "metadata": {},
   "outputs": [],
   "source": [
    "# 데이터 프레임 만들기\n",
    "df = pd.DataFrame(data, columns=['카테고리', '상품명', '상세페이지링크', '가격'])"
   ]
  },
  {
   "cell_type": "code",
   "execution_count": 9,
   "metadata": {},
   "outputs": [],
   "source": [
    "# 엑셀 저장\n",
    "# df.to_excel('result.xlsx')\n",
    "df.to_excel('result.xlsx', index=False) # 자동으로 부여되는 순차 인덱스 없이 저장"
   ]
  },
  {
   "cell_type": "code",
   "execution_count": null,
   "metadata": {},
   "outputs": [],
   "source": []
  }
 ],
 "metadata": {
  "kernelspec": {
   "display_name": "Python 3",
   "language": "python",
   "name": "python3"
  },
  "language_info": {
   "codemirror_mode": {
    "name": "ipython",
    "version": 3
   },
   "file_extension": ".py",
   "mimetype": "text/x-python",
   "name": "python",
   "nbconvert_exporter": "python",
   "pygments_lexer": "ipython3",
   "version": "3.12.3"
  }
 },
 "nbformat": 4,
 "nbformat_minor": 2
}
